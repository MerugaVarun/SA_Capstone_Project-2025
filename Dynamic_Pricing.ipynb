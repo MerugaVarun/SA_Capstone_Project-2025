{
 "cells": [
  {
   "cell_type": "markdown",
   "id": "7b413ace",
   "metadata": {},
   "source": [
    "# 📊 Capstone Project: Dynamic Pricing for Urban Parking Lots\n",
    "\n",
    "This notebook contains a complete analysis and implementation of **dynamic pricing models** for parking lots using real-time features such as:\n",
    "- Occupancy\n",
    "- Queue Length\n",
    "- Traffic Level\n",
    "- Special Events\n",
    "- Vehicle Type\n"
   ]
  },
  {
   "cell_type": "code",
   "execution_count": null,
   "id": "f55a687c",
   "metadata": {},
   "outputs": [],
   "source": [
    "import pandas as pd\n",
    "import numpy as np\n",
    "import matplotlib.pyplot as plt\n",
    "\n",
    "# Load the dataset\n",
    "df = pd.read_csv(\"final_submission_data.csv\")\n",
    "df[\"Timestamp\"] = pd.to_datetime(df[\"Timestamp\"])\n",
    "df.head()\n"
   ]
  },
  {
   "cell_type": "markdown",
   "id": "c95bb820",
   "metadata": {},
   "source": [
    "## 🔍 Feature Engineering and Description\n",
    "\n",
    "We preprocessed the following features:\n",
    "- **TrafficConditionNearby** → Encoded as 1 (low), 2 (medium), 3 (high)\n",
    "- **VehicleType** → Weighted: car=1, bike=0.5, truck=1.5\n",
    "- **Demand Function** → Combines multiple features linearly to create a normalized demand signal\n"
   ]
  },
  {
   "cell_type": "markdown",
   "id": "11472dc5",
   "metadata": {},
   "source": [
    "### 📈 Model 1: Baseline Linear Pricing"
   ]
  },
  {
   "cell_type": "code",
   "execution_count": null,
   "id": "119747a3",
   "metadata": {},
   "outputs": [],
   "source": [
    "plt.figure(figsize=(12, 4))\n",
    "plt.plot(df[\"Timestamp\"], df[\"Price_Model1\"], label=\"Baseline Price\", color=\"blue\")\n",
    "plt.title(\"Model 1: Linear Price over Time\")\n",
    "plt.xlabel(\"Timestamp\")\n",
    "plt.ylabel(\"Price\")\n",
    "plt.grid(True)\n",
    "plt.legend()\n",
    "plt.tight_layout()\n",
    "plt.show()\n"
   ]
  },
  {
   "cell_type": "markdown",
   "id": "54f8ac10",
   "metadata": {},
   "source": [
    "### 🔬 Model 2: Demand-Based Dynamic Pricing"
   ]
  },
  {
   "cell_type": "code",
   "execution_count": null,
   "id": "55cd2a20",
   "metadata": {},
   "outputs": [],
   "source": [
    "plt.figure(figsize=(12, 4))\n",
    "plt.plot(df[\"Timestamp\"], df[\"Price_Model2\"], label=\"Demand-Based Price\", color=\"green\")\n",
    "plt.title(\"Model 2: Demand-Based Pricing over Time\")\n",
    "plt.xlabel(\"Timestamp\")\n",
    "plt.ylabel(\"Price\")\n",
    "plt.grid(True)\n",
    "plt.legend()\n",
    "plt.tight_layout()\n",
    "plt.show()\n"
   ]
  },
  {
   "cell_type": "markdown",
   "id": "239835fb",
   "metadata": {},
   "source": [
    "### 📊 Price Comparison: Model 1 vs Model 2"
   ]
  },
  {
   "cell_type": "code",
   "execution_count": null,
   "id": "6ed4a7ba",
   "metadata": {},
   "outputs": [],
   "source": [
    "plt.figure(figsize=(14, 5))\n",
    "plt.plot(df[\"Timestamp\"], df[\"Price_Model1\"], label=\"Model 1\", alpha=0.7)\n",
    "plt.plot(df[\"Timestamp\"], df[\"Price_Model2\"], label=\"Model 2\", alpha=0.7)\n",
    "plt.title(\"Pricing Trends Comparison\")\n",
    "plt.xlabel(\"Timestamp\")\n",
    "plt.ylabel(\"Price\")\n",
    "plt.legend()\n",
    "plt.grid(True)\n",
    "plt.tight_layout()\n",
    "plt.show()\n"
   ]
  }
 ],
 "metadata": {},
 "nbformat": 4,
 "nbformat_minor": 5
}
